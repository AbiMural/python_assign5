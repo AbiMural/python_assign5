{
 "cells": [
  {
   "cell_type": "code",
   "execution_count": 4,
   "metadata": {},
   "outputs": [
    {
     "name": "stdout",
     "output_type": "stream",
     "text": [
      "[0 1 2 3 4 5]\n",
      "int64\n"
     ]
    }
   ],
   "source": [
    "# NumPy Assignment\n",
    "\n",
    "# 1. Create a NumPy array 'arr' of integers from 0 to 5 and print its data type.\n",
    "\n",
    "import numpy as np\n",
    "arr = np.arange(6)\n",
    "print(arr)\n",
    "print(arr.dtype)"
   ]
  },
  {
   "cell_type": "code",
   "execution_count": 4,
   "metadata": {},
   "outputs": [
    {
     "name": "stdout",
     "output_type": "stream",
     "text": [
      "float64\n"
     ]
    }
   ],
   "source": [
    "# 2. Given a NumPy array 'arr', check if its data type is float64.\n",
    "\n",
    "arr = np.array([1.5, 2.6, 3.7])\n",
    "print(arr.dtype)"
   ]
  },
  {
   "cell_type": "code",
   "execution_count": 5,
   "metadata": {},
   "outputs": [
    {
     "name": "stdout",
     "output_type": "stream",
     "text": [
      "[1.+2.j 3.+4.j 5.+6.j]\n",
      "complex128\n"
     ]
    }
   ],
   "source": [
    "# 3. Create a NumPy array 'arr' with a data type of complex128 containing three complex numbers.\n",
    "\n",
    "arr = np.array([1+2j, 3+4j, 5+6j])\n",
    "print(arr)\n",
    "print(arr.dtype)"
   ]
  },
  {
   "cell_type": "code",
   "execution_count": 6,
   "metadata": {},
   "outputs": [
    {
     "name": "stdout",
     "output_type": "stream",
     "text": [
      "[1. 2. 3. 4. 5.]\n",
      "float32\n"
     ]
    }
   ],
   "source": [
    "# 4. Convert an existing NumPy array 'arr' of integers to float32 data type\n",
    "\n",
    "arr = np.array([1,2,3,4,5])\n",
    "arr_float = arr.astype(np.float32)\n",
    "print(arr_float)\n",
    "print(arr_float.dtype)"
   ]
  },
  {
   "cell_type": "code",
   "execution_count": 7,
   "metadata": {},
   "outputs": [
    {
     "name": "stdout",
     "output_type": "stream",
     "text": [
      "[1.1234568 2.9876542 3.1415927]\n",
      "float32\n"
     ]
    }
   ],
   "source": [
    "# 5. Given a NumPy array 'arr' with float64 data type, convert it to float32 to reduce decimal precision.\n",
    "\n",
    "arr = np.array([1.123456789, 2.987654321, 3.141592653])\n",
    "arr_float= arr.astype(np.float32)\n",
    "print(arr_float)\n",
    "print(arr_float.dtype)\n"
   ]
  },
  {
   "cell_type": "code",
   "execution_count": 8,
   "metadata": {},
   "outputs": [
    {
     "name": "stdout",
     "output_type": "stream",
     "text": [
      "((2, 3), 6, dtype('int64'))\n"
     ]
    }
   ],
   "source": [
    "# 6. Write a function array_attributes that takes a NumPy array as input and returns its shape, size, and data type\n",
    "\n",
    "def array_attributes(arr):\n",
    "    shape = arr.shape\n",
    "    size = arr.size\n",
    "    dtype = arr.dtype\n",
    "    return shape, size, dtype\n",
    "\n",
    "arr = np.array([[1, 2, 3], [4, 5, 6]])\n",
    "print(array_attributes(arr))"
   ]
  },
  {
   "cell_type": "code",
   "execution_count": 9,
   "metadata": {},
   "outputs": [
    {
     "name": "stdout",
     "output_type": "stream",
     "text": [
      "2\n"
     ]
    }
   ],
   "source": [
    "# 7. Create a function array_dimension that takes a NumPy array as input and returns its dimensionality\n",
    "\n",
    "def array_dimension(arr):\n",
    "    return arr.ndim\n",
    "\n",
    "arr = np.array([[1, 2, 3], [4, 5, 6]])\n",
    "print(array_dimension(arr))\n"
   ]
  },
  {
   "cell_type": "code",
   "execution_count": 10,
   "metadata": {},
   "outputs": [
    {
     "name": "stdout",
     "output_type": "stream",
     "text": [
      "Item Size: 8 bytes\n",
      "Total Size: 48 bytes\n"
     ]
    }
   ],
   "source": [
    "# 8. Design a function item_size_info that takes a NumPy array as input and returns the item size and the total size in bytes.\n",
    "\n",
    "def item_size_info(arr):\n",
    "    item_size = arr.itemsize  \n",
    "    total_size = arr.nbytes   \n",
    "    return item_size, total_size\n",
    "\n",
    "arr = np.array([[1, 2, 3], [4, 5, 6]])\n",
    "item_size, total_size = item_size_info(arr)\n",
    "print(f\"Item Size: {item_size} bytes\")\n",
    "print(f\"Total Size: {total_size} bytes\")\n"
   ]
  },
  {
   "cell_type": "code",
   "execution_count": 11,
   "metadata": {},
   "outputs": [
    {
     "name": "stdout",
     "output_type": "stream",
     "text": [
      "(24, 8)\n"
     ]
    }
   ],
   "source": [
    "# 9. Create a function array_strides that takes a NumPy array as input and returns the strides of the array.\n",
    "\n",
    "def array_strides(arr):\n",
    "    return arr.strides\n",
    "\n",
    "arr = np.array([[1, 2, 3], [4, 5, 6]])\n",
    "print(array_strides(arr))\n",
    "\n"
   ]
  },
  {
   "cell_type": "code",
   "execution_count": 12,
   "metadata": {},
   "outputs": [
    {
     "name": "stdout",
     "output_type": "stream",
     "text": [
      "Shape: (2, 3)\n",
      "Strides: (24, 8)\n"
     ]
    }
   ],
   "source": [
    "# 10. Design a function shape_stride_relationship that takes a NumPy array as input and returns the shape and strides of the array.\n",
    "\n",
    "def shape_stride(arr):\n",
    "    shape = arr.shape      \n",
    "    strides = arr.strides  \n",
    "    return shape, strides\n",
    "\n",
    "arr = np.array([[1, 2, 3], [4, 5, 6]])\n",
    "shape, strides = shape_stride(arr)\n",
    "print(f\"Shape: {shape}\")\n",
    "print(f\"Strides: {strides}\")\n"
   ]
  },
  {
   "cell_type": "code",
   "execution_count": 5,
   "metadata": {},
   "outputs": [
    {
     "name": "stdout",
     "output_type": "stream",
     "text": [
      "Zero array with 5 elements [0. 0. 0. 0. 0.]\n"
     ]
    }
   ],
   "source": [
    "# 11. Create a function `create_zeros_array` that takes an integer `n` as input and returns a NumPy array of zeros with `n` elements.\n",
    "\n",
    "def create_zeros_array(n):\n",
    "    if n < 0:\n",
    "        raise ValueError(\"The input n must be a non-negative integer.\")\n",
    "    return np.zeros(n)\n",
    "\n",
    "n = 5\n",
    "zeros_array = create_zeros_array(n)\n",
    "print(\"Zero array with\",n,\"elements\",zeros_array)"
   ]
  },
  {
   "cell_type": "code",
   "execution_count": 6,
   "metadata": {},
   "outputs": [
    {
     "name": "stdout",
     "output_type": "stream",
     "text": [
      "Matrix of ones (3x4):\n",
      " [[1. 1. 1. 1.]\n",
      " [1. 1. 1. 1.]\n",
      " [1. 1. 1. 1.]]\n"
     ]
    }
   ],
   "source": [
    "# 12. Write a function `create_ones_matrix` that takes integers `rows` and `cols` as inputs and generates a 2D NumPy array filled with ones of size `rows x cols`.\n",
    "\n",
    "def create_ones_matrix(rows, cols):\n",
    "    if rows < 0 or cols < 0:\n",
    "        raise ValueError(\"The number of rows and columns must be non-negative integers.\")\n",
    "    return np.ones((rows, cols))\n",
    "\n",
    "rows = 3\n",
    "cols = 4\n",
    "ones_matrix = create_ones_matrix(rows, cols)\n",
    "print(f\"Matrix of ones ({rows}x{cols}):\\n\", ones_matrix)\n"
   ]
  },
  {
   "cell_type": "code",
   "execution_count": 7,
   "metadata": {},
   "outputs": [
    {
     "name": "stdout",
     "output_type": "stream",
     "text": [
      "Range array from 0 to 10 with step 2:\n",
      " [0 2 4 6 8]\n"
     ]
    }
   ],
   "source": [
    "# 13. Write a function `generate_range_array` that takes three integers start, stop, and step as arguments and creates a NumPy array with a range starting from `start`, ending at stop (exclusive), and with the specified `step`\n",
    "\n",
    "def generate_range_array(start, stop, step):\n",
    "    if step == 0:\n",
    "        raise ValueError(\"Step size must not be zero.\")\n",
    "    return np.arange(start, stop, step)\n",
    "\n",
    "start = 0\n",
    "stop = 10\n",
    "step = 2\n",
    "range_array = generate_range_array(start, stop, step)\n",
    "print(f\"Range array from {start} to {stop} with step {step}:\\n\", range_array)"
   ]
  },
  {
   "cell_type": "code",
   "execution_count": 8,
   "metadata": {},
   "outputs": [
    {
     "name": "stdout",
     "output_type": "stream",
     "text": [
      "5 equally spaced values between 1.0 and 10.0:\n",
      " [ 1.    3.25  5.5   7.75 10.  ]\n"
     ]
    }
   ],
   "source": [
    "# 14. Design a function `generate_linear_space` that takes two floats `start`, `stop`, and an integer `num` as arguments and generates a NumPy array with num equally spaced values between `start` and `stop` (inclusive).\n",
    "\n",
    "def generate_linear_space(start, stop, num):\n",
    "    if num <= 0:\n",
    "        raise ValueError(\"The number of points must be a positive integer.\")\n",
    "    return np.linspace(start, stop, num)\n",
    "\n",
    "start = 1.0\n",
    "stop = 10.0\n",
    "num = 5\n",
    "linear_space = generate_linear_space(start, stop, num)\n",
    "print(f\"{num} equally spaced values between {start} and {stop}:\\n\", linear_space)"
   ]
  },
  {
   "cell_type": "code",
   "execution_count": 9,
   "metadata": {},
   "outputs": [
    {
     "name": "stdout",
     "output_type": "stream",
     "text": [
      "Identity matrix of size 4x4:\n",
      " [[1. 0. 0. 0.]\n",
      " [0. 1. 0. 0.]\n",
      " [0. 0. 1. 0.]\n",
      " [0. 0. 0. 1.]]\n"
     ]
    }
   ],
   "source": [
    "# 15.Create a function `create_identity_matrix` that takes an integer `n` as input and generates a square identity matrix of size `n x n` using `numpy.eye`.\n",
    "\n",
    "def create_identity_matrix(n):\n",
    "    if n < 0:\n",
    "        raise ValueError(\"The size n must be a non-negative integer.\")\n",
    "    return np.eye(n)\n",
    "\n",
    "n = 4\n",
    "identity_matrix = create_identity_matrix(n)\n",
    "print(f\"Identity matrix of size {n}x{n}:\\n\", identity_matrix) \n",
    "\n"
   ]
  },
  {
   "cell_type": "code",
   "execution_count": 10,
   "metadata": {},
   "outputs": [
    {
     "name": "stdout",
     "output_type": "stream",
     "text": [
      "Python list: [1, 2, 3, 4, 5]\n",
      "NumPy array: [1 2 3 4 5]\n"
     ]
    }
   ],
   "source": [
    "# 16. Write a function that takes a Python list and converts it into a NumPy array.\n",
    "\n",
    "def convert_list_to_numpy_array(py_list):\n",
    "    if not isinstance(py_list, list):\n",
    "        raise TypeError(\"Input must be a Python list.\")\n",
    "    return np.array(py_list)\n",
    "\n",
    "python_list = [1, 2, 3, 4, 5]\n",
    "numpy_array = convert_list_to_numpy_array(python_list)\n",
    "print(\"Python list:\", python_list)\n",
    "print(\"NumPy array:\", numpy_array)  "
   ]
  },
  {
   "cell_type": "code",
   "execution_count": 11,
   "metadata": {},
   "outputs": [
    {
     "name": "stdout",
     "output_type": "stream",
     "text": [
      "Original array: [1 2 3 4 5]\n",
      "View array: [1 2 3 4 5]\n",
      "\n",
      "After modifying the view array:\n",
      "Original array: [10  2  3  4  5]\n",
      "View array: [10  2  3  4  5]\n",
      "\n",
      "Do the original array and view share the same memory?\n",
      "True\n"
     ]
    }
   ],
   "source": [
    "# 17. Create a NumPy array and demonstrate the use of `numpy.view` to create a new array object with the same data\n",
    "\n",
    "original_array = np.array([1, 2, 3, 4, 5])\n",
    "print(\"Original array:\", original_array)\n",
    "view_array = original_array.view()\n",
    "print(\"View array:\", view_array)\n",
    "\n",
    "view_array[0] = 10\n",
    "print(\"\\nAfter modifying the view array:\")\n",
    "print(\"Original array:\", original_array)\n",
    "print(\"View array:\", view_array)\n",
    "\n",
    "print(\"\\nDo the original array and view share the same memory?\")\n",
    "print(original_array.base is None)  \n"
   ]
  },
  {
   "cell_type": "code",
   "execution_count": 12,
   "metadata": {},
   "outputs": [
    {
     "name": "stdout",
     "output_type": "stream",
     "text": [
      "Concatenated along axis 0:\n",
      " [[1 2]\n",
      " [3 4]\n",
      " [5 6]\n",
      " [7 8]]\n",
      "\n",
      "Concatenated along axis 1:\n",
      " [[1 2 5 6]\n",
      " [3 4 7 8]]\n"
     ]
    }
   ],
   "source": [
    "# 18. Write a function that takes two NumPy arrays and concatenates them along a specified axis.\n",
    "\n",
    "def concatenate_arrays(array1, array2, axis=0):\n",
    "    if not isinstance(array1, np.ndarray) or not isinstance(array2, np.ndarray):\n",
    "        raise TypeError(\"Both inputs must be NumPy arrays.\")\n",
    "    \n",
    "    try:\n",
    "        return np.concatenate((array1, array2), axis=axis)\n",
    "    except ValueError as e:\n",
    "        raise ValueError(f\"Concatenation failed: {e}\")\n",
    "\n",
    "array1 = np.array([[1, 2], [3, 4]])\n",
    "array2 = np.array([[5, 6], [7, 8]])\n",
    "\n",
    "concatenated_axis_0 = concatenate_arrays(array1, array2, axis=0)\n",
    "print(\"Concatenated along axis 0:\\n\", concatenated_axis_0)\n",
    "\n",
    "concatenated_axis_1 = concatenate_arrays(array1, array2, axis=1)\n",
    "print(\"\\nConcatenated along axis 1:\\n\", concatenated_axis_1)\n"
   ]
  },
  {
   "cell_type": "code",
   "execution_count": 13,
   "metadata": {},
   "outputs": [
    {
     "name": "stdout",
     "output_type": "stream",
     "text": [
      "Array 1:\n",
      " [[1 2]\n",
      " [3 4]]\n",
      "\n",
      "Array 2:\n",
      " [[5]\n",
      " [6]]\n",
      "\n",
      "Concatenated array (horizontally):\n",
      " [[1 2 5]\n",
      " [3 4 6]]\n"
     ]
    }
   ],
   "source": [
    "# 19. Create two NumPy arrays with different shapes and concatenate them horizontally using `numpy.concatenate`.\n",
    "\n",
    "array1 = np.array([[1, 2], [3, 4]])\n",
    "array2 = np.array([[5], [6]])\n",
    "\n",
    "print(\"Array 1:\\n\", array1)\n",
    "print(\"\\nArray 2:\\n\", array2)\n",
    "\n",
    "concatenated_array = np.concatenate((array1, array2), axis=1)\n",
    "print(\"\\nConcatenated array (horizontally):\\n\", concatenated_array)\n"
   ]
  },
  {
   "cell_type": "code",
   "execution_count": 14,
   "metadata": {},
   "outputs": [
    {
     "name": "stdout",
     "output_type": "stream",
     "text": [
      "Vertically stacked array:\n",
      " [[1 2]\n",
      " [3 4]\n",
      " [5 6]\n",
      " [7 8]]\n"
     ]
    }
   ],
   "source": [
    "# 20. Write a function that vertically stacks multiple NumPy arrays given as a list.\n",
    "\n",
    "def vertical_stack_arrays(arrays):\n",
    "    if not all(isinstance(arr, np.ndarray) for arr in arrays):\n",
    "        raise TypeError(\"All elements in the list must be NumPy arrays.\")\n",
    "    \n",
    "    try:\n",
    "        return np.vstack(arrays)\n",
    "    except ValueError as e:\n",
    "        raise ValueError(f\"Vertical stacking failed: {e}\")\n",
    "\n",
    "array1 = np.array([[1, 2], [3, 4]])\n",
    "array2 = np.array([[5, 6]])\n",
    "array3 = np.array([[7, 8]])\n",
    "\n",
    "stacked_array = vertical_stack_arrays([array1, array2, array3])\n",
    "print(\"Vertically stacked array:\\n\", stacked_array)\n"
   ]
  },
  {
   "cell_type": "code",
   "execution_count": 15,
   "metadata": {},
   "outputs": [
    {
     "name": "stdout",
     "output_type": "stream",
     "text": [
      "Array of integers from 5 to 15 with step size 2:\n",
      " [ 5  7  9 11 13 15]\n"
     ]
    }
   ],
   "source": [
    "# 21. Write a Python function using NumPy to create an array of integers within a specified range (inclusive) with a given step size\n",
    "\n",
    "import numpy as np\n",
    "\n",
    "def create_range_array(start, stop, step):\n",
    "    if step == 0:\n",
    "        raise ValueError(\"Step size must be non-zero.\")\n",
    "    if start > stop and step > 0:\n",
    "        raise ValueError(\"For a positive step, start should not be greater than stop.\")\n",
    "    if start < stop and step < 0:\n",
    "        raise ValueError(\"For a negative step, start should not be less than stop.\")\n",
    "    \n",
    "    return np.arange(start, stop + 1, step)\n",
    "\n",
    "start = 5\n",
    "stop = 15\n",
    "step = 2\n",
    "range_array = create_range_array(start, stop, step)\n",
    "print(f\"Array of integers from {start} to {stop} with step size {step}:\\n\", range_array)\n"
   ]
  },
  {
   "cell_type": "code",
   "execution_count": 16,
   "metadata": {},
   "outputs": [
    {
     "name": "stdout",
     "output_type": "stream",
     "text": [
      "Equally spaced values between 0 and 1 (inclusive):\n",
      " [0.         0.11111111 0.22222222 0.33333333 0.44444444 0.55555556\n",
      " 0.66666667 0.77777778 0.88888889 1.        ]\n"
     ]
    }
   ],
   "source": [
    "# 22.Write a Python function using NumPy to generate an array of 10 equally spaced values between 0 and 1 (inclusive).\n",
    "\n",
    "def generate_equally_spaced_values():\n",
    "    return np.linspace(0, 1, 10)\n",
    "\n",
    "equally_spaced_values = generate_equally_spaced_values()\n",
    "print(\"Equally spaced values between 0 and 1 (inclusive):\\n\", equally_spaced_values)\n"
   ]
  },
  {
   "cell_type": "code",
   "execution_count": 17,
   "metadata": {},
   "outputs": [
    {
     "name": "stdout",
     "output_type": "stream",
     "text": [
      "Logarithmically spaced values between 1 and 1000 (inclusive):\n",
      " [   1.            5.62341325   31.6227766   177.827941   1000.        ]\n"
     ]
    }
   ],
   "source": [
    "# 23. Write a Python function using NumPy to create an array of 5 logarithmically spaced values between 1 and 1000 (inclusive).\n",
    "\n",
    "def generate_logarithmically_spaced_values():\n",
    "    return np.logspace(0, 3, 5, base=10)\n",
    "\n",
    "log_spaced_values = generate_logarithmically_spaced_values()\n",
    "print(\"Logarithmically spaced values between 1 and 1000 (inclusive):\\n\", log_spaced_values)\n"
   ]
  },
  {
   "cell_type": "code",
   "execution_count": 18,
   "metadata": {},
   "outputs": [
    {
     "name": "stdout",
     "output_type": "stream",
     "text": [
      "Pandas DataFrame with random integers:\n",
      "     A   B   C\n",
      "0  32  35  54\n",
      "1   4  90  57\n",
      "2  72  46  79\n",
      "3  29  70  15\n",
      "4  15   9  56\n"
     ]
    }
   ],
   "source": [
    "# 24. Create a Pandas DataFrame using a NumPy array that contains 5 rows and 3 columns, where the values are random integers between 1 and 100.\n",
    "\n",
    "import numpy as np\n",
    "import pandas as pd\n",
    "\n",
    "def create_dataframe():\n",
    "    data = np.random.randint(1, 101, size=(5, 3))\n",
    "    \n",
    "    df = pd.DataFrame(data, columns=[\"A\", \"B\", \"C\"])\n",
    "    \n",
    "    return df\n",
    "    \n",
    "df = create_dataframe()\n",
    "print(\"Pandas DataFrame with random integers:\\n\", df)\n"
   ]
  },
  {
   "cell_type": "code",
   "execution_count": 19,
   "metadata": {},
   "outputs": [
    {
     "name": "stdout",
     "output_type": "stream",
     "text": [
      "Original DataFrame:\n",
      "    A  B  C\n",
      "0  10  2 -1\n",
      "1  -5 -8  4\n",
      "2  15  5 -2\n",
      "3  -3 -6  3\n",
      "4   7  9  6\n",
      "\n",
      "Updated DataFrame (after replacing negatives in 'A' with zeros):\n",
      "    A  B  C\n",
      "0  10  2 -1\n",
      "1   0 -8  4\n",
      "2  15  5 -2\n",
      "3   0 -6  3\n",
      "4   7  9  6\n"
     ]
    }
   ],
   "source": [
    "# 25. Write a function that takes a Pandas DataFrame and replaces all negative values in a specific column with zeros. Use NumPy operations within the Pandas DataFrame.\n",
    "\n",
    "def replace_negatives_with_zero(df, column):\n",
    "    df[column] = np.where(df[column] < 0, 0, df[column])\n",
    "    return df\n",
    "\n",
    "data = {\n",
    "    'A': [10, -5, 15, -3, 7],\n",
    "    'B': [2, -8, 5, -6, 9],\n",
    "    'C': [-1, 4, -2, 3, 6]\n",
    "}\n",
    "df = pd.DataFrame(data)\n",
    "\n",
    "print(\"Original DataFrame:\")\n",
    "print(df)\n",
    "\n",
    "df = replace_negatives_with_zero(df, 'A')\n",
    "\n",
    "print(\"\\nUpdated DataFrame (after replacing negatives in 'A' with zeros):\")\n",
    "print(df)\n"
   ]
  },
  {
   "cell_type": "code",
   "execution_count": 20,
   "metadata": {},
   "outputs": [
    {
     "name": "stdout",
     "output_type": "stream",
     "text": [
      "The 3rd element in the array is: 30\n"
     ]
    }
   ],
   "source": [
    "# 26. Access the 3rd element from the given NumPy array\n",
    "arr = np.array([10, 20, 30, 40, 50])\n",
    "\n",
    "third_element = arr[2]\n",
    "\n",
    "print(\"The 3rd element in the array is:\", third_element)"
   ]
  },
  {
   "cell_type": "code",
   "execution_count": 21,
   "metadata": {},
   "outputs": [
    {
     "name": "stdout",
     "output_type": "stream",
     "text": [
      "The element at index (1, 2) is: 6\n"
     ]
    }
   ],
   "source": [
    "# 27. Retrieve the element at index (1, 2) from the 2D NumPy array\n",
    "\n",
    "arr_2d = np.array([[1, 2, 3],\n",
    "                   [4, 5, 6],\n",
    "                   [7, 8, 9]])\n",
    "\n",
    "element = arr_2d[1, 2]\n",
    "\n",
    "print(\"The element at index (1, 2) is:\", element)\n"
   ]
  },
  {
   "cell_type": "code",
   "execution_count": 22,
   "metadata": {},
   "outputs": [
    {
     "name": "stdout",
     "output_type": "stream",
     "text": [
      "Elements greater than 5: [ 8 10  7]\n"
     ]
    }
   ],
   "source": [
    "# 28. Using boolean indexing, extract elements greater than 5 from the given NumPy array.\n",
    "\n",
    "arr = np.array([3, 8, 2, 10, 5, 7])\n",
    "elements_greater_than_5 = arr[arr > 5]\n",
    "\n",
    "print(\"Elements greater than 5:\", elements_greater_than_5)"
   ]
  },
  {
   "cell_type": "code",
   "execution_count": 23,
   "metadata": {},
   "outputs": [
    {
     "name": "stdout",
     "output_type": "stream",
     "text": [
      "Sliced elements from index 2 to 5: [3 4 5 6]\n"
     ]
    }
   ],
   "source": [
    "# 29. Perform basic slicing to extract elements from index 2 to 5 (inclusive) from the given NumPy array.\n",
    "\n",
    "arr = np.array([1, 2, 3, 4, 5, 6, 7, 8, 9])\n",
    "sliced_arr = arr[2:6]\n",
    "\n",
    "print(\"Sliced elements from index 2 to 5:\", sliced_arr)"
   ]
  },
  {
   "cell_type": "code",
   "execution_count": 24,
   "metadata": {},
   "outputs": [
    {
     "name": "stdout",
     "output_type": "stream",
     "text": [
      "Extracted sub-array:\n",
      " [[5 6]\n",
      " [8 9]]\n"
     ]
    }
   ],
   "source": [
    "# 30. Slice the 2D NumPy array to extract the sub-array `[[2, 3], [5, 6]]` from the given array.\n",
    "\n",
    "arr_2d = np.array([[1, 2, 3],\n",
    "                   [4, 5, 6],\n",
    "                   [7, 8, 9]])\n",
    "\n",
    "sub_array = arr_2d[1:3, 1:3]\n",
    "\n",
    "print(\"Extracted sub-array:\\n\", sub_array)"
   ]
  },
  {
   "cell_type": "code",
   "execution_count": 25,
   "metadata": {},
   "outputs": [
    {
     "name": "stdout",
     "output_type": "stream",
     "text": [
      "Extracted elements: [2 6 7]\n"
     ]
    }
   ],
   "source": [
    "# 31.Write a NumPy function to extract elements in specific order from a given 2D array based on indices provided in another array.\n",
    "\n",
    "def extract_elements_by_indices(arr_2d, indices):\n",
    "    extracted_elements = arr_2d[indices[:, 0], indices[:, 1]]\n",
    "    \n",
    "    return extracted_elements\n",
    "\n",
    "arr_2d = np.array([[1, 2, 3],\n",
    "                   [4, 5, 6],\n",
    "                   [7, 8, 9]])\n",
    "\n",
    "indices = np.array([[0, 1], [1, 2], [2, 0]])\n",
    "\n",
    "result = extract_elements_by_indices(arr_2d, indices)\n",
    "print(\"Extracted elements:\", result)\n"
   ]
  },
  {
   "cell_type": "code",
   "execution_count": 26,
   "metadata": {},
   "outputs": [
    {
     "name": "stdout",
     "output_type": "stream",
     "text": [
      "Filtered elements greater than threshold: [ 8 10  7]\n"
     ]
    }
   ],
   "source": [
    "# 32. Create a NumPy function that filters elements greater than a threshold from a given 1D array using boolean indexing.\n",
    "\n",
    "def filter_elements_by_threshold(arr, threshold):\n",
    "    filtered_elements = arr[arr > threshold]\n",
    "    return filtered_elements\n",
    "\n",
    "arr = np.array([3, 8, 2, 10, 5, 7])\n",
    "threshold = 5\n",
    "\n",
    "result = filter_elements_by_threshold(arr, threshold)\n",
    "print(\"Filtered elements greater than threshold:\", result)\n"
   ]
  },
  {
   "cell_type": "code",
   "execution_count": 27,
   "metadata": {},
   "outputs": [
    {
     "name": "stdout",
     "output_type": "stream",
     "text": [
      "Extracted elements: [ 6 11 25]\n"
     ]
    }
   ],
   "source": [
    "# 33. Develop a NumPy function that extracts specific elements from a 3D array using indices provided in three separate arrays for each dimension.\n",
    "\n",
    "def extract_elements_from_3d_array(arr_3d, row_indices, col_indices, depth_indices):\n",
    "  \n",
    "    extracted_elements = arr_3d[row_indices, col_indices, depth_indices]\n",
    "    return extracted_elements\n",
    "\n",
    "arr_3d = np.array([[[1, 2, 3], [4, 5, 6], [7, 8, 9]],\n",
    "                   [[10, 11, 12], [13, 14, 15], [16, 17, 18]],\n",
    "                   [[19, 20, 21], [22, 23, 24], [25, 26, 27]]])\n",
    "\n",
    "row_indices = np.array([0, 1, 2])  \n",
    "col_indices = np.array([1, 0, 2])  \n",
    "depth_indices = np.array([2, 1, 0])  \n",
    "\n",
    "result = extract_elements_from_3d_array(arr_3d, row_indices, col_indices, depth_indices)\n",
    "print(\"Extracted elements:\", result)\n"
   ]
  },
  {
   "cell_type": "code",
   "execution_count": null,
   "metadata": {},
   "outputs": [
    {
     "name": "stdout",
     "output_type": "stream",
     "text": [
      "Filtered elements: [ 8 10]\n"
     ]
    }
   ],
   "source": [
    "# 34. Write a NumPy function that returns elements from an array where both two conditions are satisfied using boolean indexing.\n",
    "\n",
    "def filter_elements_by_conditions(arr, condition1, condition2):\n",
    "    filtered_elements = arr[condition1 & condition2]\n",
    "    return filtered_elements\n",
    "\n",
    "arr = np.array([3, 8, 2, 10, 5, 7])\n",
    "\n",
    "\n",
    "condition1 = arr > 5  \n",
    "condition2 = arr % 2 == 0  \n",
    "\n",
    "result = filter_elements_by_conditions(arr, condition1, condition2)\n",
    "print(\"Filtered elements:\", result)\n"
   ]
  },
  {
   "cell_type": "code",
   "execution_count": 29,
   "metadata": {},
   "outputs": [
    {
     "name": "stdout",
     "output_type": "stream",
     "text": [
      "Extracted elements: [2 4 9]\n"
     ]
    }
   ],
   "source": [
    "# 35. Create a NumPy function that extracts elements from a 2D array using row and column indices provided in separate arrays.\n",
    "\n",
    "def extract_elements_using_indices(arr_2d, row_indices, col_indices):\n",
    "    \n",
    "    extracted_elements = arr_2d[row_indices, col_indices]\n",
    "    \n",
    "    return extracted_elements\n",
    "\n",
    "arr_2d = np.array([[1, 2, 3],\n",
    "                   [4, 5, 6],\n",
    "                   [7, 8, 9]])\n",
    "\n",
    "row_indices = np.array([0, 1, 2])  \n",
    "col_indices = np.array([1, 0, 2])  \n",
    "\n",
    "result = extract_elements_using_indices(arr_2d, row_indices, col_indices)\n",
    "print(\"Extracted elements:\", result)\n"
   ]
  },
  {
   "cell_type": "code",
   "execution_count": 30,
   "metadata": {},
   "outputs": [
    {
     "name": "stdout",
     "output_type": "stream",
     "text": [
      "Array after adding 5 to each element:\n",
      " [[ 6  7  8]\n",
      " [ 9 10 11]\n",
      " [12 13 14]]\n"
     ]
    }
   ],
   "source": [
    "# 36. Given an array arr of shape (3, 3), add a scalar value of 5 to each element using NumPy broadcasting.\n",
    "\n",
    "arr = np.array([[1, 2, 3],\n",
    "                [4, 5, 6],\n",
    "                [7, 8, 9]])\n",
    "\n",
    "result = arr + 5\n",
    "\n",
    "print(\"Array after adding 5 to each element:\\n\", result)\n"
   ]
  },
  {
   "cell_type": "code",
   "execution_count": 32,
   "metadata": {},
   "outputs": [
    {
     "name": "stdout",
     "output_type": "stream",
     "text": [
      "Result of multiplication using broadcasting:\n",
      " [[ 4  5  6  7]\n",
      " [16 18 20 22]\n",
      " [36 39 42 45]]\n"
     ]
    }
   ],
   "source": [
    "# 37. Consider two arrays arr1 of shape (1, 3) and arr2 of shape (3, 4). Multiply each row of arr2 by the corresponding element in arr1 using NumPy broadcasting.\n",
    "\n",
    "arr1 = np.array([[1, 2, 3]])  \n",
    "arr2 = np.array([[4, 5, 6, 7],\n",
    "                 [8, 9, 10, 11],\n",
    "                 [12, 13, 14, 15]])  \n",
    "arr1_reshaped = arr1.T\n",
    "result = arr2 * arr1_reshaped\n",
    "\n",
    "print(\"Result of multiplication using broadcasting:\\n\", result)\n"
   ]
  },
  {
   "cell_type": "code",
   "execution_count": 33,
   "metadata": {},
   "outputs": [
    {
     "name": "stdout",
     "output_type": "stream",
     "text": [
      "Result of addition using broadcasting:\n",
      " [[ 6  7  8]\n",
      " [10 11 12]\n",
      " [14 15 16]\n",
      " [18 19 20]]\n"
     ]
    }
   ],
   "source": [
    "# 38. Given a 1D array arr1 of shape (1, 4) and a 2D array arr2 of shape (4, 3), add arr1 to each row of arr2 using NumPy broadcasting.\n",
    "\n",
    "arr1 = np.array([[1, 2, 3, 4]])  \n",
    "arr2 = np.array([[5, 6, 7],\n",
    "                 [8, 9, 10],\n",
    "                 [11, 12, 13],\n",
    "                 [14, 15, 16]])  \n",
    "\n",
    "result = arr2 + arr1.T \n",
    "\n",
    "print(\"Result of addition using broadcasting:\\n\", result)\n"
   ]
  },
  {
   "cell_type": "code",
   "execution_count": 34,
   "metadata": {},
   "outputs": [
    {
     "name": "stdout",
     "output_type": "stream",
     "text": [
      "Result of addition using broadcasting:\n",
      " [[5 6 7]\n",
      " [6 7 8]\n",
      " [7 8 9]]\n"
     ]
    }
   ],
   "source": [
    "# 39. Consider two arrays arr1 of shape (3, 1) and arr2 of shape (1, 3). Add these arrays using NumPy broadcasting.\n",
    "\n",
    "arr1 = np.array([[1], [2], [3]])  \n",
    "arr2 = np.array([[4, 5, 6]])       \n",
    "\n",
    "result = arr1 + arr2\n",
    "\n",
    "print(\"Result of addition using broadcasting:\\n\", result)"
   ]
  },
  {
   "cell_type": "code",
   "execution_count": 35,
   "metadata": {},
   "outputs": [
    {
     "name": "stdout",
     "output_type": "stream",
     "text": [
      "Result of multiplication using broadcasting:\n",
      " [[[ 7 14 21]\n",
      "  [32 40 48]]\n",
      "\n",
      " [[ 9 18 27]\n",
      "  [40 50 60]]]\n"
     ]
    }
   ],
   "source": [
    "# 40. Given arrays arr1 of shape (2, 3) and arr2 of shape (2, 2), perform multiplication using NumPy broadcasting. Handle the shape incompatibility.\n",
    "\n",
    "arr1 = np.array([[1, 2, 3], [4, 5, 6]])  \n",
    "arr2 = np.array([[7, 8], [9, 10]])        \n",
    "\n",
    "arr2_broadcasted = arr2[:, :, np.newaxis] \n",
    "arr2_broadcasted = np.repeat(arr2_broadcasted, 3, axis=2)  \n",
    "\n",
    "result = arr1 * arr2_broadcasted\n",
    "\n",
    "print(\"Result of multiplication using broadcasting:\\n\", result)"
   ]
  },
  {
   "cell_type": "code",
   "execution_count": 36,
   "metadata": {},
   "outputs": [
    {
     "name": "stdout",
     "output_type": "stream",
     "text": [
      "Column-wise mean: [2.5 3.5 4.5]\n"
     ]
    }
   ],
   "source": [
    "# 41. Calculate column wise mean for the given array:\n",
    "\n",
    "arr = np.array([[1, 2, 3], [4, 5, 6]])\n",
    "\n",
    "column_wise_mean = np.mean(arr, axis=0)\n",
    "\n",
    "print(\"Column-wise mean:\", column_wise_mean)\n"
   ]
  },
  {
   "cell_type": "code",
   "execution_count": 37,
   "metadata": {},
   "outputs": [
    {
     "name": "stdout",
     "output_type": "stream",
     "text": [
      "Maximum value in each row: [3 6]\n"
     ]
    }
   ],
   "source": [
    "# 42. Find maximum value in each row of the given array:\n",
    "\n",
    "arr = np.array([[1, 2, 3], [4, 5, 6]])\n",
    "\n",
    "row_max = np.amax(arr, axis=1)\n",
    "\n",
    "print(\"Maximum value in each row:\", row_max)"
   ]
  },
  {
   "cell_type": "code",
   "execution_count": 38,
   "metadata": {},
   "outputs": [
    {
     "name": "stdout",
     "output_type": "stream",
     "text": [
      "Indices of maximum value in each column: [1 1 1]\n"
     ]
    }
   ],
   "source": [
    "# 43. For the given array, find indices of maximum value in each column\n",
    "\n",
    "arr = np.array([[1, 2, 3], [4, 5, 6]])\n",
    "\n",
    "column_max_indices = np.argmax(arr, axis=0)\n",
    "\n",
    "print(\"Indices of maximum value in each column:\", column_max_indices)\n"
   ]
  },
  {
   "cell_type": "code",
   "execution_count": 39,
   "metadata": {},
   "outputs": [
    {
     "name": "stdout",
     "output_type": "stream",
     "text": [
      "Moving sum along rows: [[ 3.  5.]\n",
      " [ 9. 11.]]\n"
     ]
    }
   ],
   "source": [
    "# 44. For the given array, apply custom function to calculate moving sum along rows\n",
    "\n",
    "arr = np.array([[1, 2, 3], [4, 5, 6]])\n",
    "\n",
    "def moving_sum(arr, window_size):\n",
    "    return np.convolve(arr, np.ones(window_size), mode='valid')\n",
    "\n",
    "result = np.apply_along_axis(moving_sum, axis=1, arr=arr, window_size=2)\n",
    "\n",
    "print(\"Moving sum along rows:\", result)"
   ]
  },
  {
   "cell_type": "code",
   "execution_count": 40,
   "metadata": {},
   "outputs": [
    {
     "name": "stdout",
     "output_type": "stream",
     "text": [
      "Are all elements in each column even? [False False False]\n"
     ]
    }
   ],
   "source": [
    "# 45. In the given array, check if all elements in each column are even.\n",
    "\n",
    "arr = np.array([[2, 4, 6], [3, 5, 7]])\n",
    "\n",
    "result = np.all(arr % 2 == 0, axis=0)\n",
    "\n",
    "print(\"Are all elements in each column even?\", result)\n"
   ]
  },
  {
   "cell_type": "code",
   "execution_count": 41,
   "metadata": {},
   "outputs": [
    {
     "name": "stdout",
     "output_type": "stream",
     "text": [
      "Reshaped matrix:\n",
      " [[1 2 3]\n",
      " [4 5 6]]\n"
     ]
    }
   ],
   "source": [
    "# 46. Given a NumPy array arr, reshape it into a matrix of dimensions `m` rows and `n` columns. Return the reshaped matrix.\n",
    "\n",
    "original_array = np.array([1, 2, 3, 4, 5, 6])\n",
    "\n",
    "m, n = 2, 3  \n",
    "\n",
    "reshaped_matrix = original_array.reshape(m, n)\n",
    "\n",
    "print(\"Reshaped matrix:\\n\", reshaped_matrix)"
   ]
  },
  {
   "cell_type": "code",
   "execution_count": 42,
   "metadata": {},
   "outputs": [
    {
     "name": "stdout",
     "output_type": "stream",
     "text": [
      "Flattened array: [1 2 3 4 5 6]\n"
     ]
    }
   ],
   "source": [
    "# 47. Create a function that takes a matrix as input and returns the flattened array.\n",
    "\n",
    "def flatten_matrix(matrix):\n",
    "    return matrix.flatten()\n",
    "\n",
    "input_matrix = np.array([[1, 2, 3], [4, 5, 6]])\n",
    "\n",
    "flattened_array = flatten_matrix(input_matrix)\n",
    "\n",
    "print(\"Flattened array:\", flattened_array)"
   ]
  },
  {
   "cell_type": "code",
   "execution_count": 43,
   "metadata": {},
   "outputs": [
    {
     "name": "stdout",
     "output_type": "stream",
     "text": [
      "Concatenated along axis 0:\n",
      " [[1 2]\n",
      " [3 4]\n",
      " [5 6]\n",
      " [7 8]]\n",
      "Concatenated along axis 1:\n",
      " [[1 2 5 6]\n",
      " [3 4 7 8]]\n"
     ]
    }
   ],
   "source": [
    "# 48. Write a function that concatenates two given arrays along a specified axis\n",
    "\n",
    "def concatenate_arrays(array1, array2, axis):\n",
    "    return np.concatenate((array1, array2), axis=axis)\n",
    "\n",
    "array1 = np.array([[1, 2], [3, 4]])\n",
    "array2 = np.array([[5, 6], [7, 8]])\n",
    "\n",
    "result_axis_0 = concatenate_arrays(array1, array2, axis=0)\n",
    "\n",
    "result_axis_1 = concatenate_arrays(array1, array2, axis=1)\n",
    "\n",
    "print(\"Concatenated along axis 0:\\n\", result_axis_0)\n",
    "print(\"Concatenated along axis 1:\\n\", result_axis_1)\n",
    "\n"
   ]
  },
  {
   "cell_type": "code",
   "execution_count": 44,
   "metadata": {},
   "outputs": [
    {
     "name": "stdout",
     "output_type": "stream",
     "text": [
      "Split along axis 0 (rows): [array([[1, 2, 3]]), array([[4, 5, 6]]), array([[7, 8, 9]])]\n",
      "Split along axis 1 (columns): [array([[1],\n",
      "       [4],\n",
      "       [7]]), array([[2],\n",
      "       [5],\n",
      "       [8]]), array([[3],\n",
      "       [6],\n",
      "       [9]])]\n"
     ]
    }
   ],
   "source": [
    "# 49. Create a function that splits an array into multiple sub-arrays along a specified axis.\n",
    "\n",
    "def split_array(array, axis, num_splits):\n",
    "    return np.split(array, num_splits, axis=axis)\n",
    "\n",
    "original_array = np.array([[1, 2, 3], [4, 5, 6], [7, 8, 9]])\n",
    "\n",
    "result_axis_0 = split_array(original_array, axis=0, num_splits=3)\n",
    "\n",
    "result_axis_1 = split_array(original_array, axis=1, num_splits=3)\n",
    "\n",
    "print(\"Split along axis 0 (rows):\", result_axis_0)\n",
    "print(\"Split along axis 1 (columns):\", result_axis_1)"
   ]
  },
  {
   "cell_type": "code",
   "execution_count": 45,
   "metadata": {},
   "outputs": [
    {
     "name": "stdout",
     "output_type": "stream",
     "text": [
      "Array after insertion and deletion: [ 1 10  4 11  5]\n"
     ]
    }
   ],
   "source": [
    "# 50. Write a function that inserts and then deletes elements from a given array at specified indices.\n",
    "\n",
    "def insert_and_delete(array, indices_to_insert, values_to_insert, indices_to_delete):\n",
    "    array = np.insert(array, indices_to_insert, values_to_insert)\n",
    "    \n",
    "    array = np.delete(array, indices_to_delete)\n",
    "    \n",
    "    return array\n",
    "\n",
    "original_array = np.array([1, 2, 3, 4, 5])\n",
    "\n",
    "indices_to_insert = [2, 4]\n",
    "values_to_insert = [10, 11]\n",
    "indices_to_delete = [1, 3]\n",
    "\n",
    "result = insert_and_delete(original_array, indices_to_insert, values_to_insert, indices_to_delete)\n",
    "\n",
    "print(\"Array after insertion and deletion:\", result)\n"
   ]
  },
  {
   "cell_type": "code",
   "execution_count": 46,
   "metadata": {},
   "outputs": [
    {
     "name": "stdout",
     "output_type": "stream",
     "text": [
      "arr1: [ 5  3  8  8 10]\n",
      "arr2: [1 2 3 4 5]\n",
      "Element-wise addition result: [ 6  5 11 12 15]\n"
     ]
    }
   ],
   "source": [
    "# 51. Create a NumPy array `arr1` with random integers and another array `arr2` with integers from 1 to 10.Perform element-wise addition between `arr1` and `arr2`.\n",
    "\n",
    "arr1 = np.random.randint(1, 11, size=5)\n",
    "\n",
    "arr2 = np.arange(1, 11)\n",
    "\n",
    "result = arr1 + arr2[:5]  \n",
    "\n",
    "print(\"arr1:\", arr1)\n",
    "print(\"arr2:\", arr2[:5])  \n",
    "print(\"Element-wise addition result:\", result)"
   ]
  },
  {
   "cell_type": "code",
   "execution_count": 47,
   "metadata": {},
   "outputs": [
    {
     "name": "stdout",
     "output_type": "stream",
     "text": [
      "arr1: [10  9  8  7  6  5  4  3  2  1]\n",
      "arr2: [ 1  2  3  4  5  6  7  8  9 10]\n",
      "Element-wise subtraction result: [ 9  7  5  3  1 -1 -3 -5 -7 -9]\n"
     ]
    }
   ],
   "source": [
    "# 52. Generate a NumPy array `arr1` with sequential integers from 10 to 1 and another array `arr2` with integers from 1 to 10. Subtract `arr2` from `arr1` element-wise.\n",
    "\n",
    "arr1 = np.arange(10, 0, -1)\n",
    "\n",
    "arr2 = np.arange(1, 11)\n",
    "\n",
    "result = arr1 - arr2\n",
    "\n",
    "print(\"arr1:\", arr1)\n",
    "print(\"arr2:\", arr2)\n",
    "print(\"Element-wise subtraction result:\", result)"
   ]
  },
  {
   "cell_type": "code",
   "execution_count": 48,
   "metadata": {},
   "outputs": [
    {
     "name": "stdout",
     "output_type": "stream",
     "text": [
      "arr1: [10  8  8  3 10]\n",
      "arr2: [1 2 3 4 5]\n",
      "Element-wise multiplication result: [10 16 24 12 50]\n"
     ]
    }
   ],
   "source": [
    "# 53. Create a NumPy array `arr1` with random integers and another array `arr2` with integers from 1 to 5. Perform element-wise multiplication between `arr1` and `arr2`.\n",
    "\n",
    "arr1 = np.random.randint(1, 11, size=5)\n",
    "\n",
    "arr2 = np.array([1, 2, 3, 4, 5])\n",
    "\n",
    "result = arr1 * arr2\n",
    "\n",
    "print(\"arr1:\", arr1)\n",
    "print(\"arr2:\", arr2)\n",
    "print(\"Element-wise multiplication result:\", result)"
   ]
  },
  {
   "cell_type": "code",
   "execution_count": 49,
   "metadata": {},
   "outputs": [
    {
     "name": "stdout",
     "output_type": "stream",
     "text": [
      "arr1: [ 2  4  6  8 10]\n",
      "arr2: [1 2 3 4 5]\n",
      "Element-wise division result: [2. 2. 2. 2. 2.]\n"
     ]
    }
   ],
   "source": [
    "# 54. Generate a NumPy array `arr1` with even integers from 2 to 10 and another array `arr2` with integers from 1 to 5. Perform element-wise division of `arr1` by `arr2`.\n",
    "\n",
    "arr1 = np.array([2, 4, 6, 8, 10])\n",
    "\n",
    "arr2 = np.array([1, 2, 3, 4, 5])\n",
    "\n",
    "result = arr1 / arr2\n",
    "\n",
    "print(\"arr1:\", arr1)\n",
    "print(\"arr2:\", arr2)\n",
    "print(\"Element-wise division result:\", result)"
   ]
  },
  {
   "cell_type": "code",
   "execution_count": 50,
   "metadata": {},
   "outputs": [
    {
     "name": "stdout",
     "output_type": "stream",
     "text": [
      "arr1: [1 2 3 4 5]\n",
      "arr2: [5 4 3 2 1]\n",
      "Exponentiation result: [ 1 16 27 16  5]\n"
     ]
    }
   ],
   "source": [
    "# 55. Create a NumPy array `arr1` with integers from 1 to 5 and another array `arr2` with the same numbers reversed. Calculate the exponentiation of `arr1` raised to the power of `arr2` element-wise\n",
    "\n",
    "arr1 = np.array([1, 2, 3, 4, 5])\n",
    "\n",
    "arr2 = np.array([5, 4, 3, 2, 1])\n",
    "\n",
    "result = arr1 ** arr2\n",
    "\n",
    "print(\"arr1:\", arr1)\n",
    "print(\"arr2:\", arr2)\n",
    "print(\"Exponentiation result:\", result)"
   ]
  },
  {
   "cell_type": "code",
   "execution_count": 51,
   "metadata": {},
   "outputs": [
    {
     "name": "stdout",
     "output_type": "stream",
     "text": [
      "The substring 'hello' occurs 3 times in the array.\n"
     ]
    }
   ],
   "source": [
    "# 56. Write a function that counts the occurrences of a specific substring within a NumPy array of strings\n",
    "\n",
    "def count_substring_occurrences(arr, substring):\n",
    "    occurrences = np.char.find(arr, substring) != -1  \n",
    "    return np.sum(occurrences)  \n",
    "arr = np.array(['hello', 'world', 'hello', 'numpy', 'hello'])\n",
    "substring = 'hello'\n",
    "\n",
    "count = count_substring_occurrences(arr, substring)\n",
    "print(f\"The substring '{substring}' occurs {count} times in the array.\")\n"
   ]
  },
  {
   "cell_type": "code",
   "execution_count": 52,
   "metadata": {},
   "outputs": [
    {
     "name": "stdout",
     "output_type": "stream",
     "text": [
      "Uppercase characters extracted: ['H' 'W' 'OAI' 'GPT']\n"
     ]
    }
   ],
   "source": [
    "# 57. Write a function that extracts uppercase characters from a NumPy array of strings.\n",
    "\n",
    "arr = np.array(['Hello', 'World', 'OpenAI', 'GPT'])\n",
    "\n",
    "def extract_uppercase(arr):\n",
    "    uppercase_chars = np.array([ ''.join([char for char in string if char.isupper()]) for string in arr])\n",
    "    return uppercase_chars\n",
    "\n",
    "result = extract_uppercase(arr)\n",
    "print(\"Uppercase characters extracted:\", result)\n"
   ]
  },
  {
   "cell_type": "code",
   "execution_count": 53,
   "metadata": {},
   "outputs": [
    {
     "name": "stdout",
     "output_type": "stream",
     "text": [
      "Array after replacement: ['fruit' 'banana' 'grape' 'pinefruit']\n"
     ]
    }
   ],
   "source": [
    "# 58. Write a function that replaces occurrences of a substring in a NumPy array of strings with a new string.\n",
    "\n",
    "def replace_substring(arr, old_substring, new_substring):\n",
    "    return np.char.replace(arr, old_substring, new_substring)\n",
    "\n",
    "arr = np.array(['apple', 'banana', 'grape', 'pineapple'])\n",
    "old_substring = 'apple'\n",
    "new_substring = 'fruit'\n",
    "\n",
    "result = replace_substring(arr, old_substring, new_substring)\n",
    "print(\"Array after replacement:\", result)"
   ]
  },
  {
   "cell_type": "code",
   "execution_count": 54,
   "metadata": {},
   "outputs": [
    {
     "name": "stdout",
     "output_type": "stream",
     "text": [
      "Concatenated result: ['HelloOpen' 'WorldAI']\n"
     ]
    }
   ],
   "source": [
    "# 59. Write a function that concatenates strings in a NumPy array element-wise.\n",
    "\n",
    "def concatenate_strings(arr1, arr2):\n",
    "    return np.char.add(arr1, arr2)\n",
    "\n",
    "arr1 = np.array(['Hello', 'World'])\n",
    "arr2 = np.array(['Open', 'AI'])\n",
    "\n",
    "result = concatenate_strings(arr1, arr2)\n",
    "print(\"Concatenated result:\", result)"
   ]
  },
  {
   "cell_type": "code",
   "execution_count": 55,
   "metadata": {},
   "outputs": [
    {
     "name": "stdout",
     "output_type": "stream",
     "text": [
      "Length of the longest string: 9\n"
     ]
    }
   ],
   "source": [
    "# 60. Write a function that finds the length of the longest string in a NumPy array.\n",
    "\n",
    "arr = np.array(['apple', 'banana', 'grape', 'pineapple'])\n",
    "\n",
    "def longest_string_length(arr):\n",
    "    \n",
    "    lengths = np.char.str_len(arr)\n",
    "   \n",
    "    return np.max(lengths)\n",
    "\n",
    "\n",
    "result = longest_string_length(arr)\n",
    "print(\"Length of the longest string:\", result)"
   ]
  },
  {
   "cell_type": "code",
   "execution_count": 56,
   "metadata": {},
   "outputs": [
    {
     "name": "stdout",
     "output_type": "stream",
     "text": [
      "Mean: 456.8\n",
      "Median: 402.5\n",
      "Variance: 83578.3\n",
      "Standard Deviation: 289.09911795092006\n"
     ]
    }
   ],
   "source": [
    "# 61. Create a dataset of 100 random integers between 1 and 1000. Compute the mean, median, variance, and standard deviation of the dataset using NumPy's functions.\n",
    "\n",
    "dataset = np.random.randint(1, 1001, size=100)\n",
    "\n",
    "mean = np.mean(dataset)\n",
    "median = np.median(dataset)\n",
    "variance = np.var(dataset)\n",
    "std_deviation = np.std(dataset)\n",
    "\n",
    "print(f\"Mean: {mean}\")\n",
    "print(f\"Median: {median}\")\n",
    "print(f\"Variance: {variance}\")\n",
    "print(f\"Standard Deviation: {std_deviation}\")"
   ]
  },
  {
   "cell_type": "code",
   "execution_count": 57,
   "metadata": {},
   "outputs": [
    {
     "name": "stdout",
     "output_type": "stream",
     "text": [
      "25th Percentile: 23.0\n",
      "75th Percentile: 74.0\n"
     ]
    }
   ],
   "source": [
    "# 62. Generate an array of 50 random numbers between 1 and 100. Find the 25th and 75th percentiles of the dataset.\n",
    "\n",
    "random_array = np.random.randint(1, 101, size=50)\n",
    "\n",
    "percentile_25 = np.percentile(random_array, 25)\n",
    "percentile_75 = np.percentile(random_array, 75)\n",
    "\n",
    "print(f\"25th Percentile: {percentile_25}\")\n",
    "print(f\"75th Percentile: {percentile_75}\")"
   ]
  },
  {
   "cell_type": "code",
   "execution_count": 58,
   "metadata": {},
   "outputs": [
    {
     "name": "stdout",
     "output_type": "stream",
     "text": [
      "Correlation Coefficient: -0.9999999999999999\n"
     ]
    }
   ],
   "source": [
    "# 63. Create two arrays representing two sets of variables. Compute the correlation coefficient between these arrays using NumPy's `corrcoef` function.\n",
    "\n",
    "arr1 = np.array([1, 2, 3, 4, 5])\n",
    "arr2 = np.array([5, 4, 3, 2, 1])\n",
    "\n",
    "correlation_matrix = np.corrcoef(arr1, arr2)\n",
    "\n",
    "correlation_coefficient = correlation_matrix[0, 1]\n",
    "\n",
    "print(f\"Correlation Coefficient: {correlation_coefficient}\")"
   ]
  },
  {
   "cell_type": "code",
   "execution_count": 59,
   "metadata": {},
   "outputs": [
    {
     "name": "stdout",
     "output_type": "stream",
     "text": [
      "Result of matrix multiplication:\n",
      " [[19 22]\n",
      " [43 50]]\n"
     ]
    }
   ],
   "source": [
    "# 64. Create two matrices and perform matrix multiplication using NumPy's `dot` function.\n",
    "\n",
    "matrix1 = np.array([[1, 2], [3, 4]])\n",
    "matrix2 = np.array([[5, 6], [7, 8]])\n",
    "\n",
    "result = np.dot(matrix1, matrix2)\n",
    "\n",
    "print(\"Result of matrix multiplication:\\n\", result)"
   ]
  },
  {
   "cell_type": "code",
   "execution_count": 60,
   "metadata": {},
   "outputs": [
    {
     "name": "stdout",
     "output_type": "stream",
     "text": [
      "10th Percentile: 158.0\n",
      "50th Percentile (Median): 584.0\n",
      "90th Percentile: 929.2\n",
      "First Quartile (25th Percentile): 267.25\n",
      "Third Quartile (75th Percentile): 802.75\n"
     ]
    }
   ],
   "source": [
    "# 65. Create an array of 50 integers between 10 and 1000. Calculate the 10th, 50th (median), and 90th percentiles along with the first and third quartiles.\n",
    "\n",
    "random_array = np.random.randint(10, 1001, size=50)\n",
    "\n",
    "percentile_10 = np.percentile(random_array, 10)\n",
    "percentile_50 = np.percentile(random_array, 50)  \n",
    "percentile_90 = np.percentile(random_array, 90)\n",
    "\n",
    "first_quartile = np.percentile(random_array, 25)\n",
    "third_quartile = np.percentile(random_array, 75)\n",
    "\n",
    "print(f\"10th Percentile: {percentile_10}\")\n",
    "print(f\"50th Percentile (Median): {percentile_50}\")\n",
    "print(f\"90th Percentile: {percentile_90}\")\n",
    "print(f\"First Quartile (25th Percentile): {first_quartile}\")\n",
    "print(f\"Third Quartile (75th Percentile): {third_quartile}\")"
   ]
  },
  {
   "cell_type": "code",
   "execution_count": 61,
   "metadata": {},
   "outputs": [
    {
     "name": "stdout",
     "output_type": "stream",
     "text": [
      "The index of element 50 is: 4\n"
     ]
    }
   ],
   "source": [
    "# 66. Create a NumPy array of integers and find the index of a specific element.\n",
    "\n",
    "arr = np.array([10, 20, 30, 40, 50, 60, 70, 80, 90])\n",
    "\n",
    "element_to_find = 50\n",
    "\n",
    "index_of_element = np.where(arr == element_to_find)[0][0]\n",
    "\n",
    "print(f\"The index of element {element_to_find} is: {index_of_element}\")"
   ]
  },
  {
   "cell_type": "code",
   "execution_count": 62,
   "metadata": {},
   "outputs": [
    {
     "name": "stdout",
     "output_type": "stream",
     "text": [
      "Original Array: [74 31 47 53 29 48 83 34 99 75]\n",
      "Sorted Array in Ascending Order: [29 31 34 47 48 53 74 75 83 99]\n"
     ]
    }
   ],
   "source": [
    "# 67. Generate a random NumPy array and sort it in ascending order\n",
    "\n",
    "random_array = np.random.randint(1, 101, size=10)\n",
    "\n",
    "sorted_array = np.sort(random_array)\n",
    "\n",
    "print(\"Original Array:\", random_array)\n",
    "print(\"Sorted Array in Ascending Order:\", sorted_array)"
   ]
  },
  {
   "cell_type": "code",
   "execution_count": 63,
   "metadata": {},
   "outputs": [
    {
     "name": "stdout",
     "output_type": "stream",
     "text": [
      "Elements greater than 20: [25 42 30]\n"
     ]
    }
   ],
   "source": [
    "# 68. Filter elements >20  in the given NumPy array.\n",
    "\n",
    "arr = np.array([12, 25, 6, 42, 8, 30])\n",
    "\n",
    "filtered_elements = arr[arr > 20]\n",
    "\n",
    "print(\"Elements greater than 20:\", filtered_elements)"
   ]
  },
  {
   "cell_type": "code",
   "execution_count": 64,
   "metadata": {},
   "outputs": [
    {
     "name": "stdout",
     "output_type": "stream",
     "text": [
      "Elements divisible by 3: [12 15]\n"
     ]
    }
   ],
   "source": [
    "# 69. Filter elements which are divisible by 3 from a given NumPy array.\n",
    "\n",
    "arr = np.array([1, 5, 8, 12, 15])\n",
    "\n",
    "divisible_by_3 = arr[arr % 3 == 0]\n",
    "\n",
    "print(\"Elements divisible by 3:\", divisible_by_3)"
   ]
  },
  {
   "cell_type": "code",
   "execution_count": 65,
   "metadata": {},
   "outputs": [
    {
     "name": "stdout",
     "output_type": "stream",
     "text": [
      "Elements ≥ 20 and ≤ 40: [20 30 40]\n"
     ]
    }
   ],
   "source": [
    "# 70. Filter elements which are ≥ 20 and ≤ 40 from a given NumPy array.\n",
    "\n",
    "arr = np.array([10, 20, 30, 40, 50])\n",
    "\n",
    "filtered_elements = arr[(arr >= 20) & (arr <= 40)]\n",
    "\n",
    "print(\"Elements ≥ 20 and ≤ 40:\", filtered_elements)"
   ]
  },
  {
   "cell_type": "code",
   "execution_count": 2,
   "metadata": {},
   "outputs": [
    {
     "name": "stdout",
     "output_type": "stream",
     "text": [
      "Byte order: Native (matches system's endianness)\n"
     ]
    }
   ],
   "source": [
    "# 71. For the given NumPy array, check its byte order using the `dtype` attribute byteorder.\n",
    "\n",
    "import numpy as np\n",
    "arr = np.array([1, 2, 3])\n",
    "byte_order = arr.dtype.byteorder\n",
    "\n",
    "if byte_order == '=':\n",
    "    print(\"Byte order: Native (matches system's endianness)\")\n",
    "elif byte_order == '<':\n",
    "    print(\"Byte order: Little-endian\")\n",
    "elif byte_order == '>':\n",
    "    print(\"Byte order: Big-endian\")\n",
    "else:\n",
    "    print(f\"Byte order: Unknown ({byte_order})\")"
   ]
  },
  {
   "cell_type": "code",
   "execution_count": 3,
   "metadata": {},
   "outputs": [
    {
     "name": "stdout",
     "output_type": "stream",
     "text": [
      "Array after byte swapping:\n",
      "[16777216 33554432 50331648]\n"
     ]
    }
   ],
   "source": [
    "# 72. For the given NumPy array, perform byte swapping in place using `byteswap()`.\n",
    "arr = np.array([1, 2, 3], dtype=np.int32)\n",
    "arr.byteswap(inplace=True)\n",
    "\n",
    "print(\"Array after byte swapping:\")\n",
    "print(arr)"
   ]
  },
  {
   "cell_type": "code",
   "execution_count": 6,
   "metadata": {},
   "outputs": [
    {
     "name": "stdout",
     "output_type": "stream",
     "text": [
      "Original array:\n",
      "[1 2 3]\n",
      "Array with swapped byte order:\n",
      "[16777216 33554432 50331648]\n"
     ]
    }
   ],
   "source": [
    "# 73. For the given NumPy array, swap its byte order without modifying the original array using `newbyteorder()`.\n",
    "arr = np.array([1, 2, 3], dtype=np.int32)\n",
    "swapped_arr = arr.view(arr.dtype.newbyteorder())\n",
    "\n",
    "print(\"Original array:\")\n",
    "print(arr)\n",
    "\n",
    "print(\"Array with swapped byte order:\")\n",
    "print(swapped_arr)"
   ]
  },
  {
   "cell_type": "code",
   "execution_count": 7,
   "metadata": {},
   "outputs": [
    {
     "name": "stdout",
     "output_type": "stream",
     "text": [
      "System endianness is Little-endian.\n",
      "Original array:\n",
      "[1 2 3]\n",
      "Array with swapped byte order:\n",
      "[16777216 33554432 50331648]\n"
     ]
    }
   ],
   "source": [
    "# 74. For the given NumPy array and swap its byte order conditionally based on system endianness using `newbyteorder()`.\n",
    "\n",
    "arr = np.array([1, 2, 3], dtype=np.int32)\n",
    "system_endianness = arr.dtype.byteorder\n",
    "\n",
    "if system_endianness == '=':  \n",
    "    import sys\n",
    "    if sys.byteorder == 'little':\n",
    "        print(\"System endianness is Little-endian.\")\n",
    "    else:\n",
    "        print(\"System endianness is Big-endian.\")\n",
    "    swapped_arr = arr.view(arr.dtype.newbyteorder())\n",
    "else:\n",
    "    print(\"Array byte order is not native. Swapping byte order.\")\n",
    "    swapped_arr = arr.view(arr.dtype.newbyteorder())\n",
    "\n",
    "print(\"Original array:\")\n",
    "print(arr)\n",
    "\n",
    "print(\"Array with swapped byte order:\")\n",
    "print(swapped_arr)\n"
   ]
  },
  {
   "cell_type": "code",
   "execution_count": 8,
   "metadata": {},
   "outputs": [
    {
     "name": "stdout",
     "output_type": "stream",
     "text": [
      "No byte swapping is necessary. \n"
     ]
    }
   ],
   "source": [
    "# 75. For the given NumPy array, check if byte swapping is necessary for the current system using `dtype` attribute `byteorder`.\n",
    "\n",
    "arr = np.array([1, 2, 3], dtype=np.int32)\n",
    "byte_order = arr.dtype.byteorder\n",
    "\n",
    "if byte_order == '=': \n",
    "    print(\"No byte swapping is necessary. \")\n",
    "elif (byte_order == '<' and np.little_endian) or (byte_order == '>' and not np.little_endian):\n",
    "    print(\"No byte swapping is necessary. The array is already in the correct byte order.\")\n",
    "else:\n",
    "    print(\"Byte swapping is necessary. \")\n"
   ]
  },
  {
   "cell_type": "code",
   "execution_count": 9,
   "metadata": {},
   "outputs": [
    {
     "name": "stdout",
     "output_type": "stream",
     "text": [
      "Original array (arr1):\n",
      "[ 1  2  3  4  5  6  7  8  9 10]\n",
      "Modified copy (copy_arr):\n",
      "[100   2   3   4   5   6   7   8   9  10]\n",
      "Modifying copy_arr does not affect arr1.\n"
     ]
    }
   ],
   "source": [
    "# 76. Create a NumPy array `arr1` with values from 1 to 10. Create a copy of `arr1` named `copy_arr` and modify an element in `copy_arr`. Check if modifying `copy_arr` affects `arr1`.\n",
    "\n",
    "arr1 = np.arange(1, 11)\n",
    "\n",
    "copy_arr = arr1.copy()\n",
    "\n",
    "copy_arr[0] = 100\n",
    "\n",
    "print(\"Original array (arr1):\")\n",
    "print(arr1)\n",
    "\n",
    "print(\"Modified copy (copy_arr):\")\n",
    "print(copy_arr)\n",
    "\n",
    "if np.array_equal(arr1, copy_arr):\n",
    "    print(\"Modifying copy_arr affects arr1.\")\n",
    "else:\n",
    "    print(\"Modifying copy_arr does not affect arr1.\")"
   ]
  },
  {
   "cell_type": "code",
   "execution_count": 10,
   "metadata": {},
   "outputs": [
    {
     "name": "stdout",
     "output_type": "stream",
     "text": [
      "Original matrix after modification:\n",
      "[[48 73 34]\n",
      " [10 -1 79]\n",
      " [75 49 65]]\n",
      "Modified view_slice:\n",
      "[[-1 79]\n",
      " [49 65]]\n",
      "Modifying view_slice affects the original matrix.\n"
     ]
    }
   ],
   "source": [
    "# 77. Create a 2D NumPy array `matrix` of shape (3, 3) with random integers. Extract a slice `view_slice` from the matrix. Modify an element in `view_slice` and observe if it changes the original `matrix`.\n",
    "\n",
    "matrix = np.random.randint(0, 100, size=(3, 3))\n",
    "\n",
    "view_slice = matrix[1:, 1:]\n",
    "\n",
    "view_slice[0, 0] = -1\n",
    "\n",
    "print(\"Original matrix after modification:\")\n",
    "print(matrix)\n",
    "\n",
    "print(\"Modified view_slice:\")\n",
    "print(view_slice)\n",
    "\n",
    "if matrix[1, 1] == view_slice[0, 0]:\n",
    "    print(\"Modifying view_slice affects the original matrix.\")\n",
    "else:\n",
    "    print(\"Modifying view_slice does not affect the original matrix.\")"
   ]
  },
  {
   "cell_type": "code",
   "execution_count": 11,
   "metadata": {},
   "outputs": [
    {
     "name": "stdout",
     "output_type": "stream",
     "text": [
      "Original array (array_a) after modification:\n",
      "[[ 1  2  3]\n",
      " [ 9 10 11]\n",
      " [12 13 14]\n",
      " [10 11 12]]\n",
      "Modified view (view_b):\n",
      "[[ 9 10 11]\n",
      " [12 13 14]]\n",
      "Broadcasting on view_b alters the original array (array_a).\n"
     ]
    }
   ],
   "source": [
    "# 78. Create a NumPy array `array_a` of shape (4, 3) with sequential integers from 1 to 12. Extract a slice `view_b` from `array_a` and broadcast the addition of 5 to view_b. Check if it alters the original `array_a`.\n",
    "\n",
    "array_a = np.arange(1, 13).reshape(4, 3)\n",
    "\n",
    "view_b = array_a[1:3, :]\n",
    "\n",
    "view_b += 5\n",
    "\n",
    "print(\"Original array (array_a) after modification:\")\n",
    "print(array_a)\n",
    "\n",
    "print(\"Modified view (view_b):\")\n",
    "print(view_b)\n",
    "\n",
    "if np.array_equal(array_a[1:3, :], view_b):\n",
    "    print(\"Broadcasting on view_b alters the original array (array_a).\")\n",
    "else:\n",
    "    print(\"Broadcasting on view_b does not alter the original array (array_a).\")"
   ]
  },
  {
   "cell_type": "code",
   "execution_count": 12,
   "metadata": {},
   "outputs": [
    {
     "name": "stdout",
     "output_type": "stream",
     "text": [
      "Original array (orig_array) after modification:\n",
      "[[  1 100   3   4]\n",
      " [  5   6   7   8]]\n",
      "Modified reshaped view (reshaped_view):\n",
      "[[  1 100]\n",
      " [  3   4]\n",
      " [  5   6]\n",
      " [  7   8]]\n",
      "Modifying reshaped_view affects the original array (orig_array).\n"
     ]
    }
   ],
   "source": [
    "# 79. Create a NumPy array `orig_array` of shape (2, 4) with values from 1 to 8. Create a reshaped view `reshaped_view` of shape (4, 2) from orig_array. Modify an element in `reshaped_view` and check if it reflects changes in the original `orig_array`.\n",
    "\n",
    "orig_array = np.arange(1, 9).reshape(2, 4)\n",
    "\n",
    "reshaped_view = orig_array.reshape(4, 2)\n",
    "\n",
    "reshaped_view[0, 1] = 100\n",
    "\n",
    "print(\"Original array (orig_array) after modification:\")\n",
    "print(orig_array)\n",
    "\n",
    "print(\"Modified reshaped view (reshaped_view):\")\n",
    "print(reshaped_view)\n",
    "\n",
    "if np.array_equal(orig_array, reshaped_view.reshape(2, 4)):\n",
    "    print(\"Modifying reshaped_view affects the original array (orig_array).\")\n",
    "else:\n",
    "    print(\"Modifying reshaped_view does not affect the original array (orig_array).\")"
   ]
  },
  {
   "cell_type": "code",
   "execution_count": 13,
   "metadata": {},
   "outputs": [
    {
     "name": "stdout",
     "output_type": "stream",
     "text": [
      "Original data array:\n",
      "[[ 1  4  6  6]\n",
      " [ 1  7  1  7]\n",
      " [ 7 10  4  6]]\n",
      "Modified data_copy:\n",
      "[100   6   7   7   7  10   6]\n",
      "Modifying data_copy does not affect the original data.\n"
     ]
    }
   ],
   "source": [
    "# 80. Create a NumPy array `data` of shape (3, 4) with random integers. Extract a copy `data_copy` of elements greater than 5. Modify an element in `data_copy` and verify if it affects the original `data`.\n",
    "\n",
    "data = np.random.randint(1, 11, size=(3, 4))\n",
    "\n",
    "data_copy = data[data > 5].copy()\n",
    "\n",
    "data_copy[0] = 100\n",
    "\n",
    "print(\"Original data array:\")\n",
    "print(data)\n",
    "\n",
    "print(\"Modified data_copy:\")\n",
    "print(data_copy)\n",
    "\n",
    "if np.array_equal(data, data_copy):\n",
    "    print(\"Modifying data_copy affects the original data.\")\n",
    "else:\n",
    "    print(\"Modifying data_copy does not affect the original data.\")"
   ]
  },
  {
   "cell_type": "code",
   "execution_count": 14,
   "metadata": {},
   "outputs": [
    {
     "name": "stdout",
     "output_type": "stream",
     "text": [
      "Matrix A:\n",
      "[[2 8 2]\n",
      " [3 7 4]\n",
      " [2 8 4]]\n",
      "\n",
      "Matrix B:\n",
      "[[2 8 4]\n",
      " [7 4 1]\n",
      " [2 4 5]]\n",
      "\n",
      "Matrix A + Matrix B:\n",
      "[[ 4 16  6]\n",
      " [10 11  5]\n",
      " [ 4 12  9]]\n",
      "\n",
      "Matrix A - Matrix B:\n",
      "[[ 0  0 -2]\n",
      " [-4  3  3]\n",
      " [ 0  4 -1]]\n"
     ]
    }
   ],
   "source": [
    "# 81. Create two matrices A and B of identical shape containing integers and perform addition and subtraction operations between them\n",
    "\n",
    "A = np.random.randint(1, 11, size=(3, 3))\n",
    "B = np.random.randint(1, 11, size=(3, 3))\n",
    "\n",
    "C_add = A + B  \n",
    "C_sub = A - B  \n",
    "\n",
    "print(\"Matrix A:\")\n",
    "print(A)\n",
    "\n",
    "print(\"\\nMatrix B:\")\n",
    "print(B)\n",
    "\n",
    "print(\"\\nMatrix A + Matrix B:\")\n",
    "print(C_add)\n",
    "\n",
    "print(\"\\nMatrix A - Matrix B:\")\n",
    "print(C_sub)"
   ]
  },
  {
   "cell_type": "code",
   "execution_count": 15,
   "metadata": {},
   "outputs": [
    {
     "name": "stdout",
     "output_type": "stream",
     "text": [
      "Matrix C (3x2):\n",
      "[[7 4]\n",
      " [2 2]\n",
      " [3 8]]\n",
      "\n",
      "Matrix D (2x4):\n",
      "[[6 6 1 5]\n",
      " [7 9 6 8]]\n",
      "\n",
      "Matrix multiplication result (C @ D):\n",
      "[[70 78 31 67]\n",
      " [26 30 14 26]\n",
      " [74 90 51 79]]\n"
     ]
    }
   ],
   "source": [
    "# 82. Generate two matrices `C` (3x2) and `D` (2x4) and perform matrix multiplication.\n",
    "\n",
    "C = np.random.randint(1, 11, size=(3, 2))\n",
    "D = np.random.randint(1, 11, size=(2, 4))\n",
    "\n",
    "result = np.dot(C, D)\n",
    "\n",
    "print(\"Matrix C (3x2):\")\n",
    "print(C)\n",
    "\n",
    "print(\"\\nMatrix D (2x4):\")\n",
    "print(D)\n",
    "\n",
    "print(\"\\nMatrix multiplication result (C @ D):\")\n",
    "print(result)"
   ]
  },
  {
   "cell_type": "code",
   "execution_count": 16,
   "metadata": {},
   "outputs": [
    {
     "name": "stdout",
     "output_type": "stream",
     "text": [
      "Matrix E:\n",
      "[[ 1 10  2 10]\n",
      " [ 3  5  4  4]\n",
      " [ 4  8  1  7]]\n",
      "\n",
      "Transpose of Matrix E:\n",
      "[[ 1  3  4]\n",
      " [10  5  8]\n",
      " [ 2  4  1]\n",
      " [10  4  7]]\n"
     ]
    }
   ],
   "source": [
    "# 83. Create a matrix `E` and find its transpose.\n",
    "\n",
    "E = np.random.randint(1, 11, size=(3, 4))\n",
    "\n",
    "E_transpose = E.T\n",
    "\n",
    "print(\"Matrix E:\")\n",
    "print(E)\n",
    "\n",
    "print(\"\\nTranspose of Matrix E:\")\n",
    "print(E_transpose)"
   ]
  },
  {
   "cell_type": "code",
   "execution_count": 17,
   "metadata": {},
   "outputs": [
    {
     "name": "stdout",
     "output_type": "stream",
     "text": [
      "Matrix F:\n",
      "[[2 6 2]\n",
      " [8 5 5]\n",
      " [9 6 6]]\n",
      "\n",
      "Determinant of matrix F:\n",
      "-12.0\n"
     ]
    }
   ],
   "source": [
    "# 84. Generate a square matrix `F` and compute its determinant.\n",
    "\n",
    "F = np.random.randint(1, 11, size=(3, 3))\n",
    "\n",
    "det_F = np.linalg.det(F)\n",
    "\n",
    "print(\"Matrix F:\")\n",
    "print(F)\n",
    "\n",
    "print(\"\\nDeterminant of matrix F:\")\n",
    "print(det_F)"
   ]
  },
  {
   "cell_type": "code",
   "execution_count": 18,
   "metadata": {},
   "outputs": [
    {
     "name": "stdout",
     "output_type": "stream",
     "text": [
      "Matrix G:\n",
      "[[6 1 9]\n",
      " [3 5 3]\n",
      " [2 8 9]]\n",
      "\n",
      "Inverse of matrix G:\n",
      "[[ 0.09090909  0.27272727 -0.18181818]\n",
      " [-0.09090909  0.15584416  0.03896104]\n",
      " [ 0.06060606 -0.1991342   0.11688312]]\n"
     ]
    }
   ],
   "source": [
    "# 85. Create a square matrix `G` and find its inverse.\n",
    "\n",
    "G = np.random.randint(1, 11, size=(3, 3))\n",
    "\n",
    "det_G = np.linalg.det(G)\n",
    "\n",
    "if det_G != 0:\n",
    "    G_inverse = np.linalg.inv(G)\n",
    "   \n",
    "    print(\"Matrix G:\")\n",
    "    print(G)\n",
    "\n",
    "    print(\"\\nInverse of matrix G:\")\n",
    "    print(G_inverse)\n",
    "else:\n",
    "    print(\"Matrix G is not invertible (determinant is zero).\")"
   ]
  }
 ],
 "metadata": {
  "kernelspec": {
   "display_name": "Python 3",
   "language": "python",
   "name": "python3"
  },
  "language_info": {
   "codemirror_mode": {
    "name": "ipython",
    "version": 3
   },
   "file_extension": ".py",
   "mimetype": "text/x-python",
   "name": "python",
   "nbconvert_exporter": "python",
   "pygments_lexer": "ipython3",
   "version": "3.10.0"
  }
 },
 "nbformat": 4,
 "nbformat_minor": 2
}
